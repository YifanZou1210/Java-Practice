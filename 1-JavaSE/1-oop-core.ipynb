{
 "cells": [
  {
   "cell_type": "markdown",
   "id": "6b7eb897",
   "metadata": {},
   "source": [
    "#### 封装 Encapsulation\n",
    "**封装**是指将数据（属性，或者叫字段）和操作数据的方法（行为）捆绑在一起，形成一个独立的对象（类的实例）\n",
    "> Encapsulation: Bundles an object’s state (fields) and behavior (methods) together, hiding internal implementation details to protect data integrity and reduce coupling.\n",
    "\n",
    "**实现封装**（Implementation）：通过访问修饰符（private、protected、public）控制成员可见性，使用 getter/setter 提供受控访问。\n",
    "> How to Implement: Use access modifiers (private, protected, public) to control member visibility and provide controlled access via getters and setters.\n",
    "> Related Concepts:\n",
    "> - 数据隐藏 data hiding\n",
    "> - 只读属性 read-only properties\n",
    "> - 不变量设计 design of class invariants "
   ]
  },
  {
   "cell_type": "code",
   "execution_count": null,
   "id": "02cbdeb8",
   "metadata": {},
   "outputs": [],
   "source": [
    "public class Person{\n",
    "  private String name \n",
    "  // private fields: 用于隐藏实现细节hide implementation\n",
    "  private int age\n",
    "  // constructor,initilize name and age\n",
    "  public Person(String name, int age){\n",
    "    setName(name)\n",
    "    // 使用setter而非直接赋值以复用校验逻辑 reuse validation logic\n",
    "    setAge(age) //same as above\n",
    "  }\n",
    "  //public getter for read-only access\n",
    "}"
   ]
  }
 ],
 "metadata": {
  "kernelspec": {
   "display_name": "java (JJava/j!)",
   "language": "java",
   "name": "jbang-jjava"
  },
  "language_info": {
   "name": "java"
  }
 },
 "nbformat": 4,
 "nbformat_minor": 5
}
