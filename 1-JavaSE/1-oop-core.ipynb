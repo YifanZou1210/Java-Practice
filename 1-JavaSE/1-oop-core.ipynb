{
 "cells": [
  {
   "cell_type": "markdown",
   "id": "6b7eb897",
   "metadata": {},
   "source": [
    "#### 封装 Encapsulation\n",
    "**封装**是指将数据（属性，或者叫字段）和操作数据的方法（行为）捆绑在一起，形成一个独立的对象（类的实例）\n",
    "> Encapsulation: Bundles an object’s state (fields) and behavior (methods) together, hiding internal implementation details to protect data integrity and reduce coupling.\n",
    "\n",
    "**实现封装**（Implementation）：通过访问修饰符（private、protected、public）控制成员可见性，使用 getter/setter 提供受控访问。\n",
    "> How to Implement: Use access modifiers (private, protected, public) to control member visibility and provide controlled access via getters and setters.\n",
    "> Related Concepts:\n",
    "> - 数据隐藏 data hiding\n",
    "> - 只读属性 read-only properties\n",
    "> - 不变量设计 design of class invariants "
   ]
  },
  {
   "cell_type": "code",
   "execution_count": null,
   "id": "02cbdeb8",
   "metadata": {},
   "outputs": [],
   "source": [
    "public class Person{\n",
    "  private String name \n",
    "  // private fields: 用于隐藏实现细节hide implementation\n",
    "  private int age\n",
    "  // constructor,initilize name and age\n",
    "  public Person(String name, int age){\n",
    "    setName(name)\n",
    "    // 使用setter而非直接赋值以复用校验逻辑 reuse validation logic\n",
    "    setAge(age) //same as above\n",
    "  }\n",
    "  //public getter for read-only access\n",
    "  public String getName(){\n",
    "    return name\n",
    "  }\n",
    "  public void setName(String name){\n",
    "    this.name = name\n",
    "  }\n",
    "  public int getAge(){\n",
    "    return age\n",
    "  }\n",
    "  public void setAge(int age){\n",
    "    this.age = age\n",
    "  }\n",
    "}"
   ]
  },
  {
   "cell_type": "markdown",
   "id": "f86aef99",
   "metadata": {},
   "source": [
    "#### Inheritance 继承\n",
    "继承允许一个类（子类）继承现有类（父类或者基类）的属性和方法。以提高代码的复用性，建立类之间的层次关系。\n",
    "同时，子类还可以重写或者扩展从父类继承来的属性和方法，从而实现多态。"
   ]
  }
 ],
 "metadata": {
  "kernelspec": {
   "display_name": "java (JJava/j!)",
   "language": "java",
   "name": "jbang-jjava"
  },
  "language_info": {
   "name": "java"
  }
 },
 "nbformat": 4,
 "nbformat_minor": 5
}
